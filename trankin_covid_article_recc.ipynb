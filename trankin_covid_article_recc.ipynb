{
 "cells": [
  {
   "cell_type": "markdown",
   "metadata": {},
   "source": [
    "# Importing Relevant Packages and Loading Data"
   ]
  },
  {
   "cell_type": "code",
   "execution_count": 1,
   "metadata": {},
   "outputs": [
    {
     "name": "stdout",
     "output_type": "stream",
     "text": [
      "Requirement already satisfied: rake-nltk in c:\\users\\tyler\\anaconda3\\lib\\site-packages (1.0.4)\n",
      "Requirement already satisfied: nltk in c:\\users\\tyler\\anaconda3\\lib\\site-packages (from rake-nltk) (3.4.5)\n",
      "Requirement already satisfied: six in c:\\users\\tyler\\anaconda3\\lib\\site-packages (from nltk->rake-nltk) (1.12.0)\n"
     ]
    }
   ],
   "source": [
    "!pip install rake-nltk"
   ]
  },
  {
   "cell_type": "code",
   "execution_count": 2,
   "metadata": {},
   "outputs": [
    {
     "name": "stderr",
     "output_type": "stream",
     "text": [
      "[nltk_data] Downloading package punkt to\n",
      "[nltk_data]     C:\\Users\\Tyler\\AppData\\Roaming\\nltk_data...\n",
      "[nltk_data]   Unzipping tokenizers\\punkt.zip.\n",
      "[nltk_data] Downloading package stopwords to\n",
      "[nltk_data]     C:\\Users\\Tyler\\AppData\\Roaming\\nltk_data...\n",
      "[nltk_data]   Unzipping corpora\\stopwords.zip.\n"
     ]
    }
   ],
   "source": [
    "\n",
    "\n",
    "import requests\n",
    "import bs4\n",
    "from bs4 import BeautifulSoup\n",
    "import pandas as pd\n",
    "import time\n",
    "import re\n",
    "import numpy as np\n",
    "import nltk\n",
    "import seaborn as sns\n",
    "import os\n",
    "import csv\n",
    "nltk.download('punkt')\n",
    "nltk.download('stopwords')\n",
    "from nltk import word_tokenize\n",
    "from wordcloud import WordCloud\n",
    "import matplotlib.pyplot as plt\n",
    "#from hcluster import pdist, linkage, dendrogram\n",
    "from nltk.tokenize import RegexpTokenizer\n",
    "from scipy.spatial.distance import pdist, squareform\n",
    "from scipy.cluster.hierarchy import linkage, dendrogram\n",
    "from sklearn.metrics import pairwise_distances\n",
    "\n",
    "import scipy.cluster.hierarchy as sch\n",
    "\n"
   ]
  },
  {
   "cell_type": "code",
   "execution_count": 3,
   "metadata": {},
   "outputs": [
    {
     "name": "stdout",
     "output_type": "stream",
     "text": [
      "(45774, 5)\n",
      "(34809, 5)\n"
     ]
    },
    {
     "data": {
      "text/html": [
       "<div>\n",
       "<style scoped>\n",
       "    .dataframe tbody tr th:only-of-type {\n",
       "        vertical-align: middle;\n",
       "    }\n",
       "\n",
       "    .dataframe tbody tr th {\n",
       "        vertical-align: top;\n",
       "    }\n",
       "\n",
       "    .dataframe thead th {\n",
       "        text-align: right;\n",
       "    }\n",
       "</style>\n",
       "<table border=\"1\" class=\"dataframe\">\n",
       "  <thead>\n",
       "    <tr style=\"text-align: right;\">\n",
       "      <th></th>\n",
       "      <th>title</th>\n",
       "      <th>doi</th>\n",
       "      <th>abstract</th>\n",
       "      <th>publish_time</th>\n",
       "      <th>authors</th>\n",
       "    </tr>\n",
       "  </thead>\n",
       "  <tbody>\n",
       "    <tr>\n",
       "      <td>0</td>\n",
       "      <td>siann: strain identification by alignment to n...</td>\n",
       "      <td>10.1101/001727</td>\n",
       "      <td>next-generation sequencing is increasingly bei...</td>\n",
       "      <td>2014-01-10</td>\n",
       "      <td>Samuel Minot; Stephen D Turner; Krista L Ternu...</td>\n",
       "    </tr>\n",
       "    <tr>\n",
       "      <td>1</td>\n",
       "      <td>spatial epidemiology of networked metapopulati...</td>\n",
       "      <td>10.1101/003889</td>\n",
       "      <td>an emerging disease is one infectious epidemic...</td>\n",
       "      <td>2014-06-04</td>\n",
       "      <td>Lin WANG; Xiang Li</td>\n",
       "    </tr>\n",
       "    <tr>\n",
       "      <td>2</td>\n",
       "      <td>sequencing of the human ig light chain loci fr...</td>\n",
       "      <td>10.1101/006866</td>\n",
       "      <td>germline variation at immunoglobulin gene (ig)...</td>\n",
       "      <td>2014-07-03</td>\n",
       "      <td>Corey T Watson; Karyn Meltz Steinberg; Tina A ...</td>\n",
       "    </tr>\n",
       "    <tr>\n",
       "      <td>3</td>\n",
       "      <td>bayesian mixture analysis for metagenomic comm...</td>\n",
       "      <td>10.1101/007476</td>\n",
       "      <td>deep sequencing of clinical samples is now an ...</td>\n",
       "      <td>2014-07-25</td>\n",
       "      <td>Sofia Morfopoulou; Vincent Plagnol</td>\n",
       "    </tr>\n",
       "    <tr>\n",
       "      <td>4</td>\n",
       "      <td>mapping a viral phylogeny onto outbreak trees ...</td>\n",
       "      <td>10.1101/010389</td>\n",
       "      <td>developing methods to reconstruct transmission...</td>\n",
       "      <td>2014-11-11</td>\n",
       "      <td>Stephen P Velsko; Jonathan E Allen</td>\n",
       "    </tr>\n",
       "    <tr>\n",
       "      <td>5</td>\n",
       "      <td>the infant airway microbiome in health and dis...</td>\n",
       "      <td>10.1101/012070</td>\n",
       "      <td>the nasopharynx (np) is a reservoir for microb...</td>\n",
       "      <td>2014-12-02</td>\n",
       "      <td>Shu Mei Teo; Danny Mok; Kym Pham; Merci Kusel;...</td>\n",
       "    </tr>\n",
       "    <tr>\n",
       "      <td>6</td>\n",
       "      <td>using heterogeneity in the population structur...</td>\n",
       "      <td>10.1101/017178</td>\n",
       "      <td>abstractin 2013, u.s. swine producers were con...</td>\n",
       "      <td>2015-03-27</td>\n",
       "      <td>Eamon B. O’Dea; Harry Snelson; Shweta Bansal</td>\n",
       "    </tr>\n",
       "    <tr>\n",
       "      <td>7</td>\n",
       "      <td>big city, small world: density, contact rates,...</td>\n",
       "      <td>10.1101/018481</td>\n",
       "      <td>macroscopic descriptions of populations common...</td>\n",
       "      <td>2015-04-27</td>\n",
       "      <td>Moritz U. G. Kraemer; T. Alex Perkins; Derek A...</td>\n",
       "    </tr>\n",
       "    <tr>\n",
       "      <td>8</td>\n",
       "      <td>mers-cov recombination: implications about the...</td>\n",
       "      <td>10.1101/020834</td>\n",
       "      <td>recombination is a process that unlinks neighb...</td>\n",
       "      <td>2015-06-12</td>\n",
       "      <td>Gytis Dudas; Andrew Rambaut</td>\n",
       "    </tr>\n",
       "    <tr>\n",
       "      <td>9</td>\n",
       "      <td>on the causes of evolutionary transition:trans...</td>\n",
       "      <td>10.1101/027722</td>\n",
       "      <td>a pattern in which nucleotide transitions are ...</td>\n",
       "      <td>2015-09-28</td>\n",
       "      <td>Arlin Stoltzfus; Ryan W. Norris</td>\n",
       "    </tr>\n",
       "  </tbody>\n",
       "</table>\n",
       "</div>"
      ],
      "text/plain": [
       "                                               title             doi  \\\n",
       "0  siann: strain identification by alignment to n...  10.1101/001727   \n",
       "1  spatial epidemiology of networked metapopulati...  10.1101/003889   \n",
       "2  sequencing of the human ig light chain loci fr...  10.1101/006866   \n",
       "3  bayesian mixture analysis for metagenomic comm...  10.1101/007476   \n",
       "4  mapping a viral phylogeny onto outbreak trees ...  10.1101/010389   \n",
       "5  the infant airway microbiome in health and dis...  10.1101/012070   \n",
       "6  using heterogeneity in the population structur...  10.1101/017178   \n",
       "7  big city, small world: density, contact rates,...  10.1101/018481   \n",
       "8  mers-cov recombination: implications about the...  10.1101/020834   \n",
       "9  on the causes of evolutionary transition:trans...  10.1101/027722   \n",
       "\n",
       "                                            abstract publish_time  \\\n",
       "0  next-generation sequencing is increasingly bei...   2014-01-10   \n",
       "1  an emerging disease is one infectious epidemic...   2014-06-04   \n",
       "2  germline variation at immunoglobulin gene (ig)...   2014-07-03   \n",
       "3  deep sequencing of clinical samples is now an ...   2014-07-25   \n",
       "4  developing methods to reconstruct transmission...   2014-11-11   \n",
       "5  the nasopharynx (np) is a reservoir for microb...   2014-12-02   \n",
       "6  abstractin 2013, u.s. swine producers were con...   2015-03-27   \n",
       "7  macroscopic descriptions of populations common...   2015-04-27   \n",
       "8  recombination is a process that unlinks neighb...   2015-06-12   \n",
       "9  a pattern in which nucleotide transitions are ...   2015-09-28   \n",
       "\n",
       "                                             authors  \n",
       "0  Samuel Minot; Stephen D Turner; Krista L Ternu...  \n",
       "1                                 Lin WANG; Xiang Li  \n",
       "2  Corey T Watson; Karyn Meltz Steinberg; Tina A ...  \n",
       "3                 Sofia Morfopoulou; Vincent Plagnol  \n",
       "4                 Stephen P Velsko; Jonathan E Allen  \n",
       "5  Shu Mei Teo; Danny Mok; Kym Pham; Merci Kusel;...  \n",
       "6       Eamon B. O’Dea; Harry Snelson; Shweta Bansal  \n",
       "7  Moritz U. G. Kraemer; T. Alex Perkins; Derek A...  \n",
       "8                        Gytis Dudas; Andrew Rambaut  \n",
       "9                    Arlin Stoltzfus; Ryan W. Norris  "
      ]
     },
     "execution_count": 3,
     "metadata": {},
     "output_type": "execute_result"
    }
   ],
   "source": [
    "# load the meta data from the CSV file \n",
    "df=pd.read_csv('metadata.csv', usecols=['title','abstract','authors','doi','publish_time'])\n",
    "print (df.shape)\n",
    "\n",
    "#drop duplicates\n",
    "df = df.drop_duplicates(subset='abstract', keep=\"first\")\n",
    "\n",
    "#drop NANs \n",
    "df=df.dropna()\n",
    "\n",
    "# convert abstracts and titles to lowercase\n",
    "df[\"abstract\"] = df[\"abstract\"].str.lower()\n",
    "df['title']=df['title'].str.lower()\n",
    "\n",
    "#show 10 lines of the new dataframe\n",
    "print (df.shape)\n",
    "df.head(10)"
   ]
  },
  {
   "cell_type": "markdown",
   "metadata": {},
   "source": [
    "Goal is to first sort the articles into which coronavirus is the topic of research in each article. A list of current coronaviruses was obtained from CDC website (https://www.cdc.gov/coronavirus/types.html) and incluw. CDC blocks display of website in Python so I had to screenshot the website."
   ]
  },
  {
   "cell_type": "markdown",
   "metadata": {},
   "source": [
    "# Data Cleaning"
   ]
  },
  {
   "cell_type": "markdown",
   "metadata": {},
   "source": [
    "## Labelling papers by coronavirus type"
   ]
  },
  {
   "cell_type": "markdown",
   "metadata": {},
   "source": [
    "To begin, I plan to label the papers based on the type of coronavirus that the paper is discussing. To do this, I first had to obtain a list of known coronavirus' from the CDC website. Following this, the abstracts were searched to find matches for each coronavirus used as a key word. As there is no quick way of determining which virus is the basis of the paper if multiple virus' are mentioned, those were simply labelled as \"multi\". The title did not provide enough matches to be used which is why the abstract was used. I understand this is not a perfect method as there could be a  multitude of false positives due to the papers basis' being about other virus' such as H1N1 and West Nile, but it should prove valid for the majority of papers."
   ]
  },
  {
   "cell_type": "markdown",
   "metadata": {},
   "source": [
    "Goal is to first sort the articles into which coronavirus is the topic of research in each article. A list of current coronaviruses was obtained from CDC website (https://www.cdc.gov/coronavirus/types.html) and incluw. CDC blocks display of website in Python so I had to screenshot the website.\n"
   ]
  },
  {
   "cell_type": "code",
   "execution_count": 4,
   "metadata": {},
   "outputs": [
    {
     "data": {
      "image/png": "[encoded data removed]",
      "text/plain": [
       "<IPython.core.display.Image object>"
      ]
     },
     "metadata": {},
     "output_type": "display_data"
    }
   ],
   "source": [
    " #obtaining image from CDC website (they block displaying HTML)\n",
    "from IPython.display import Image, HTML, display\n",
    "display(Image('coronavirus_types.PNG'))"
   ]
  },
  {
   "cell_type": "code",
   "execution_count": 5,
   "metadata": {},
   "outputs": [],
   "source": [
    "virus_list = '229e','nl63','oc43','hku1','mers-cov','mers','sars-cov','sars','sars-cov-2','covid-19'"
   ]
  },
  {
   "cell_type": "code",
   "execution_count": 6,
   "metadata": {},
   "outputs": [
    {
     "data": {
      "text/html": [
       "<div>\n",
       "<style scoped>\n",
       "    .dataframe tbody tr th:only-of-type {\n",
       "        vertical-align: middle;\n",
       "    }\n",
       "\n",
       "    .dataframe tbody tr th {\n",
       "        vertical-align: top;\n",
       "    }\n",
       "\n",
       "    .dataframe thead th {\n",
       "        text-align: right;\n",
       "    }\n",
       "</style>\n",
       "<table border=\"1\" class=\"dataframe\">\n",
       "  <thead>\n",
       "    <tr style=\"text-align: right;\">\n",
       "      <th></th>\n",
       "      <th>index</th>\n",
       "      <th>title</th>\n",
       "      <th>doi</th>\n",
       "      <th>abstract</th>\n",
       "      <th>publish_time</th>\n",
       "      <th>authors</th>\n",
       "      <th>229e</th>\n",
       "      <th>nl63</th>\n",
       "      <th>oc43</th>\n",
       "      <th>hku1</th>\n",
       "      <th>mers-cov</th>\n",
       "      <th>mers</th>\n",
       "      <th>sars-cov</th>\n",
       "      <th>sars</th>\n",
       "      <th>sars-cov-2</th>\n",
       "      <th>covid-19</th>\n",
       "    </tr>\n",
       "  </thead>\n",
       "  <tbody>\n",
       "    <tr>\n",
       "      <td>0</td>\n",
       "      <td>0</td>\n",
       "      <td>siann: strain identification by alignment to n...</td>\n",
       "      <td>10.1101/001727</td>\n",
       "      <td>next-generation sequencing is increasingly bei...</td>\n",
       "      <td>2014-01-10</td>\n",
       "      <td>Samuel Minot; Stephen D Turner; Krista L Ternu...</td>\n",
       "      <td>0.0</td>\n",
       "      <td>0.0</td>\n",
       "      <td>0.0</td>\n",
       "      <td>0.0</td>\n",
       "      <td>0.0</td>\n",
       "      <td>0.0</td>\n",
       "      <td>0.0</td>\n",
       "      <td>0.0</td>\n",
       "      <td>0.0</td>\n",
       "      <td>0.0</td>\n",
       "    </tr>\n",
       "    <tr>\n",
       "      <td>1</td>\n",
       "      <td>1</td>\n",
       "      <td>spatial epidemiology of networked metapopulati...</td>\n",
       "      <td>10.1101/003889</td>\n",
       "      <td>an emerging disease is one infectious epidemic...</td>\n",
       "      <td>2014-06-04</td>\n",
       "      <td>Lin WANG; Xiang Li</td>\n",
       "      <td>0.0</td>\n",
       "      <td>0.0</td>\n",
       "      <td>0.0</td>\n",
       "      <td>0.0</td>\n",
       "      <td>0.0</td>\n",
       "      <td>0.0</td>\n",
       "      <td>0.0</td>\n",
       "      <td>0.0</td>\n",
       "      <td>0.0</td>\n",
       "      <td>0.0</td>\n",
       "    </tr>\n",
       "    <tr>\n",
       "      <td>2</td>\n",
       "      <td>2</td>\n",
       "      <td>sequencing of the human ig light chain loci fr...</td>\n",
       "      <td>10.1101/006866</td>\n",
       "      <td>germline variation at immunoglobulin gene (ig)...</td>\n",
       "      <td>2014-07-03</td>\n",
       "      <td>Corey T Watson; Karyn Meltz Steinberg; Tina A ...</td>\n",
       "      <td>0.0</td>\n",
       "      <td>0.0</td>\n",
       "      <td>0.0</td>\n",
       "      <td>0.0</td>\n",
       "      <td>0.0</td>\n",
       "      <td>0.0</td>\n",
       "      <td>0.0</td>\n",
       "      <td>0.0</td>\n",
       "      <td>0.0</td>\n",
       "      <td>0.0</td>\n",
       "    </tr>\n",
       "    <tr>\n",
       "      <td>3</td>\n",
       "      <td>3</td>\n",
       "      <td>bayesian mixture analysis for metagenomic comm...</td>\n",
       "      <td>10.1101/007476</td>\n",
       "      <td>deep sequencing of clinical samples is now an ...</td>\n",
       "      <td>2014-07-25</td>\n",
       "      <td>Sofia Morfopoulou; Vincent Plagnol</td>\n",
       "      <td>0.0</td>\n",
       "      <td>0.0</td>\n",
       "      <td>0.0</td>\n",
       "      <td>0.0</td>\n",
       "      <td>0.0</td>\n",
       "      <td>0.0</td>\n",
       "      <td>0.0</td>\n",
       "      <td>0.0</td>\n",
       "      <td>0.0</td>\n",
       "      <td>0.0</td>\n",
       "    </tr>\n",
       "    <tr>\n",
       "      <td>4</td>\n",
       "      <td>4</td>\n",
       "      <td>mapping a viral phylogeny onto outbreak trees ...</td>\n",
       "      <td>10.1101/010389</td>\n",
       "      <td>developing methods to reconstruct transmission...</td>\n",
       "      <td>2014-11-11</td>\n",
       "      <td>Stephen P Velsko; Jonathan E Allen</td>\n",
       "      <td>0.0</td>\n",
       "      <td>0.0</td>\n",
       "      <td>0.0</td>\n",
       "      <td>0.0</td>\n",
       "      <td>0.0</td>\n",
       "      <td>0.0</td>\n",
       "      <td>0.0</td>\n",
       "      <td>0.0</td>\n",
       "      <td>0.0</td>\n",
       "      <td>0.0</td>\n",
       "    </tr>\n",
       "  </tbody>\n",
       "</table>\n",
       "</div>"
      ],
      "text/plain": [
       "   index                                              title             doi  \\\n",
       "0      0  siann: strain identification by alignment to n...  10.1101/001727   \n",
       "1      1  spatial epidemiology of networked metapopulati...  10.1101/003889   \n",
       "2      2  sequencing of the human ig light chain loci fr...  10.1101/006866   \n",
       "3      3  bayesian mixture analysis for metagenomic comm...  10.1101/007476   \n",
       "4      4  mapping a viral phylogeny onto outbreak trees ...  10.1101/010389   \n",
       "\n",
       "                                            abstract publish_time  \\\n",
       "0  next-generation sequencing is increasingly bei...   2014-01-10   \n",
       "1  an emerging disease is one infectious epidemic...   2014-06-04   \n",
       "2  germline variation at immunoglobulin gene (ig)...   2014-07-03   \n",
       "3  deep sequencing of clinical samples is now an ...   2014-07-25   \n",
       "4  developing methods to reconstruct transmission...   2014-11-11   \n",
       "\n",
       "                                             authors  229e  nl63  oc43  hku1  \\\n",
       "0  Samuel Minot; Stephen D Turner; Krista L Ternu...   0.0   0.0   0.0   0.0   \n",
       "1                                 Lin WANG; Xiang Li   0.0   0.0   0.0   0.0   \n",
       "2  Corey T Watson; Karyn Meltz Steinberg; Tina A ...   0.0   0.0   0.0   0.0   \n",
       "3                 Sofia Morfopoulou; Vincent Plagnol   0.0   0.0   0.0   0.0   \n",
       "4                 Stephen P Velsko; Jonathan E Allen   0.0   0.0   0.0   0.0   \n",
       "\n",
       "   mers-cov  mers  sars-cov  sars  sars-cov-2  covid-19  \n",
       "0       0.0   0.0       0.0   0.0         0.0       0.0  \n",
       "1       0.0   0.0       0.0   0.0         0.0       0.0  \n",
       "2       0.0   0.0       0.0   0.0         0.0       0.0  \n",
       "3       0.0   0.0       0.0   0.0         0.0       0.0  \n",
       "4       0.0   0.0       0.0   0.0         0.0       0.0  "
      ]
     },
     "execution_count": 6,
     "metadata": {},
     "output_type": "execute_result"
    }
   ],
   "source": [
    "virus=df\n",
    "\n",
    "for v in virus_list:\n",
    "    virus[v] = np.zeros(len(virus))\n",
    "#reset_index\n",
    "virus = virus.reset_index()\n",
    "virus.head(5)"
   ]
  },
  {
   "cell_type": "code",
   "execution_count": 7,
   "metadata": {},
   "outputs": [
    {
     "name": "stderr",
     "output_type": "stream",
     "text": [
      "C:\\Users\\Tyler\\Anaconda3\\lib\\site-packages\\ipykernel_launcher.py:10: SettingWithCopyWarning: \n",
      "A value is trying to be set on a copy of a slice from a DataFrame\n",
      "\n",
      "See the caveats in the documentation: http://pandas.pydata.org/pandas-docs/stable/user_guide/indexing.html#returning-a-view-versus-a-copy\n",
      "  # Remove the CWD from sys.path while we load stuff.\n"
     ]
    }
   ],
   "source": [
    "for i in range(len(virus)):    \n",
    "    text = str(virus.iloc[i,3])    \n",
    "    for sk in virus_list :        \n",
    "        if any(x in sk for x in ['+']):\n",
    "            skk = re.escape(sk)\n",
    "        else:\n",
    "            skk = sk\n",
    "        result = re.search(r'(?:^|(?<=\\s))' + skk + r'(?=\\s|$)',text) \n",
    "        if result:\n",
    "            virus[sk][i] = 1"
   ]
  },
  {
   "cell_type": "code",
   "execution_count": 8,
   "metadata": {},
   "outputs": [
    {
     "data": {
      "text/plain": [
       "0     0.0\n",
       "1     0.0\n",
       "2     0.0\n",
       "3     0.0\n",
       "4     0.0\n",
       "5     0.0\n",
       "6     0.0\n",
       "7     0.0\n",
       "8     1.0\n",
       "9     0.0\n",
       "10    0.0\n",
       "11    0.0\n",
       "12    0.0\n",
       "13    0.0\n",
       "14    0.0\n",
       "15    0.0\n",
       "16    0.0\n",
       "17    0.0\n",
       "18    0.0\n",
       "19    0.0\n",
       "Name: sum, dtype: float64"
      ]
     },
     "execution_count": 8,
     "metadata": {},
     "output_type": "execute_result"
    }
   ],
   "source": [
    "virus['sum'] = virus.iloc[:,7:16].sum(axis=1)\n",
    "virus['sum'].head(20)"
   ]
  },
  {
   "cell_type": "code",
   "execution_count": 9,
   "metadata": {},
   "outputs": [],
   "source": [
    "virus = virus[virus['sum'] != 0]\n",
    "virus=virus.reset_index(drop=True)"
   ]
  },
  {
   "cell_type": "code",
   "execution_count": 10,
   "metadata": {},
   "outputs": [
    {
     "name": "stderr",
     "output_type": "stream",
     "text": [
      "C:\\Users\\Tyler\\Anaconda3\\lib\\site-packages\\ipykernel_launcher.py:12: SettingWithCopyWarning: \n",
      "A value is trying to be set on a copy of a slice from a DataFrame\n",
      "\n",
      "See the caveats in the documentation: http://pandas.pydata.org/pandas-docs/stable/user_guide/indexing.html#returning-a-view-versus-a-copy\n",
      "  if sys.path[0] == '':\n",
      "C:\\Users\\Tyler\\Anaconda3\\lib\\site-packages\\ipykernel_launcher.py:14: SettingWithCopyWarning: \n",
      "A value is trying to be set on a copy of a slice from a DataFrame\n",
      "\n",
      "See the caveats in the documentation: http://pandas.pydata.org/pandas-docs/stable/user_guide/indexing.html#returning-a-view-versus-a-copy\n",
      "  \n",
      "C:\\Users\\Tyler\\Anaconda3\\lib\\site-packages\\ipykernel_launcher.py:16: SettingWithCopyWarning: \n",
      "A value is trying to be set on a copy of a slice from a DataFrame\n",
      "\n",
      "See the caveats in the documentation: http://pandas.pydata.org/pandas-docs/stable/user_guide/indexing.html#returning-a-view-versus-a-copy\n",
      "  app.launch_new_instance()\n",
      "C:\\Users\\Tyler\\Anaconda3\\lib\\site-packages\\ipykernel_launcher.py:10: SettingWithCopyWarning: \n",
      "A value is trying to be set on a copy of a slice from a DataFrame\n",
      "\n",
      "See the caveats in the documentation: http://pandas.pydata.org/pandas-docs/stable/user_guide/indexing.html#returning-a-view-versus-a-copy\n",
      "  # Remove the CWD from sys.path while we load stuff.\n",
      "C:\\Users\\Tyler\\Anaconda3\\lib\\site-packages\\ipykernel_launcher.py:8: SettingWithCopyWarning: \n",
      "A value is trying to be set on a copy of a slice from a DataFrame\n",
      "\n",
      "See the caveats in the documentation: http://pandas.pydata.org/pandas-docs/stable/user_guide/indexing.html#returning-a-view-versus-a-copy\n",
      "  \n",
      "C:\\Users\\Tyler\\Anaconda3\\lib\\site-packages\\ipykernel_launcher.py:4: SettingWithCopyWarning: \n",
      "A value is trying to be set on a copy of a slice from a DataFrame\n",
      "\n",
      "See the caveats in the documentation: http://pandas.pydata.org/pandas-docs/stable/user_guide/indexing.html#returning-a-view-versus-a-copy\n",
      "  after removing the cwd from sys.path.\n",
      "C:\\Users\\Tyler\\Anaconda3\\lib\\site-packages\\ipykernel_launcher.py:6: SettingWithCopyWarning: \n",
      "A value is trying to be set on a copy of a slice from a DataFrame\n",
      "\n",
      "See the caveats in the documentation: http://pandas.pydata.org/pandas-docs/stable/user_guide/indexing.html#returning-a-view-versus-a-copy\n",
      "  \n"
     ]
    }
   ],
   "source": [
    "virus['virus_type']='blank'\n",
    "for i in range(len(virus)):\n",
    "    if virus['229e'][i] > 0:\n",
    "        virus['virus_type'][i]='229e'\n",
    "    elif virus['nl63'][i] > 0:\n",
    "        virus['virus_type'][i]='nl63'\n",
    "    elif virus['oc43'][i] > 0:\n",
    "        virus['virus_type'][i]='oc43'\n",
    "    elif virus['hku1'][i] > 0:\n",
    "        virus['virus_type'][i]='hku1'\n",
    "    elif virus['mers-cov'][i] > 0 or virus['mers'][i] > 0:\n",
    "        virus['virus_type'][i]='mers'\n",
    "    elif virus['sars-cov'][i] > 0 or virus['sars'][i] > 0:\n",
    "        virus['virus_type'][i]='sars'\n",
    "    elif virus['sars-cov-2'][i] > 0 or virus['covid-19'][i] > 0:\n",
    "        virus['virus_type'][i]='covid'\n",
    "        "
   ]
  },
  {
   "cell_type": "code",
   "execution_count": 11,
   "metadata": {},
   "outputs": [],
   "source": [
    "#virus.to_csv(r'C:\\Users\\Tyler\\Documents\\UofT\\DS\\Exam\\looke.csv', index = False)"
   ]
  },
  {
   "cell_type": "code",
   "execution_count": 12,
   "metadata": {},
   "outputs": [
    {
     "name": "stderr",
     "output_type": "stream",
     "text": [
      "C:\\Users\\Tyler\\Anaconda3\\lib\\site-packages\\ipykernel_launcher.py:13: SettingWithCopyWarning: \n",
      "A value is trying to be set on a copy of a slice from a DataFrame\n",
      "\n",
      "See the caveats in the documentation: http://pandas.pydata.org/pandas-docs/stable/user_guide/indexing.html#returning-a-view-versus-a-copy\n",
      "  del sys.path[0]\n",
      "C:\\Users\\Tyler\\Anaconda3\\lib\\site-packages\\ipykernel_launcher.py:25: SettingWithCopyWarning: \n",
      "A value is trying to be set on a copy of a slice from a DataFrame\n",
      "\n",
      "See the caveats in the documentation: http://pandas.pydata.org/pandas-docs/stable/user_guide/indexing.html#returning-a-view-versus-a-copy\n",
      "C:\\Users\\Tyler\\Anaconda3\\lib\\site-packages\\ipykernel_launcher.py:17: SettingWithCopyWarning: \n",
      "A value is trying to be set on a copy of a slice from a DataFrame\n",
      "\n",
      "See the caveats in the documentation: http://pandas.pydata.org/pandas-docs/stable/user_guide/indexing.html#returning-a-view-versus-a-copy\n",
      "C:\\Users\\Tyler\\Anaconda3\\lib\\site-packages\\ipykernel_launcher.py:19: SettingWithCopyWarning: \n",
      "A value is trying to be set on a copy of a slice from a DataFrame\n",
      "\n",
      "See the caveats in the documentation: http://pandas.pydata.org/pandas-docs/stable/user_guide/indexing.html#returning-a-view-versus-a-copy\n",
      "C:\\Users\\Tyler\\Anaconda3\\lib\\site-packages\\ipykernel_launcher.py:15: SettingWithCopyWarning: \n",
      "A value is trying to be set on a copy of a slice from a DataFrame\n",
      "\n",
      "See the caveats in the documentation: http://pandas.pydata.org/pandas-docs/stable/user_guide/indexing.html#returning-a-view-versus-a-copy\n",
      "  from ipykernel import kernelapp as app\n",
      "C:\\Users\\Tyler\\Anaconda3\\lib\\site-packages\\ipykernel_launcher.py:23: SettingWithCopyWarning: \n",
      "A value is trying to be set on a copy of a slice from a DataFrame\n",
      "\n",
      "See the caveats in the documentation: http://pandas.pydata.org/pandas-docs/stable/user_guide/indexing.html#returning-a-view-versus-a-copy\n",
      "C:\\Users\\Tyler\\Anaconda3\\lib\\site-packages\\ipykernel_launcher.py:21: SettingWithCopyWarning: \n",
      "A value is trying to be set on a copy of a slice from a DataFrame\n",
      "\n",
      "See the caveats in the documentation: http://pandas.pydata.org/pandas-docs/stable/user_guide/indexing.html#returning-a-view-versus-a-copy\n",
      "C:\\Users\\Tyler\\Anaconda3\\lib\\site-packages\\ipykernel_launcher.py:7: SettingWithCopyWarning: \n",
      "A value is trying to be set on a copy of a slice from a DataFrame\n",
      "\n",
      "See the caveats in the documentation: http://pandas.pydata.org/pandas-docs/stable/user_guide/indexing.html#returning-a-view-versus-a-copy\n",
      "  import sys\n",
      "C:\\Users\\Tyler\\Anaconda3\\lib\\site-packages\\ipykernel_launcher.py:5: SettingWithCopyWarning: \n",
      "A value is trying to be set on a copy of a slice from a DataFrame\n",
      "\n",
      "See the caveats in the documentation: http://pandas.pydata.org/pandas-docs/stable/user_guide/indexing.html#returning-a-view-versus-a-copy\n",
      "  \"\"\"\n",
      "C:\\Users\\Tyler\\Anaconda3\\lib\\site-packages\\ipykernel_launcher.py:9: SettingWithCopyWarning: \n",
      "A value is trying to be set on a copy of a slice from a DataFrame\n",
      "\n",
      "See the caveats in the documentation: http://pandas.pydata.org/pandas-docs/stable/user_guide/indexing.html#returning-a-view-versus-a-copy\n",
      "  if __name__ == '__main__':\n",
      "C:\\Users\\Tyler\\Anaconda3\\lib\\site-packages\\ipykernel_launcher.py:11: SettingWithCopyWarning: \n",
      "A value is trying to be set on a copy of a slice from a DataFrame\n",
      "\n",
      "See the caveats in the documentation: http://pandas.pydata.org/pandas-docs/stable/user_guide/indexing.html#returning-a-view-versus-a-copy\n",
      "  # This is added back by InteractiveShellApp.init_path()\n"
     ]
    }
   ],
   "source": [
    "virus['virus_type']='blank'\n",
    "#Labelling the papers based on key words of known coronavirus\n",
    "for i in range(len(virus)):\n",
    "    if virus['229e'][i] > 0 and virus['sum'][i] == 1:\n",
    "        virus['virus_type'][i]='229e'        \n",
    "    elif virus['nl63'][i] > 0 and virus['sum'][i] == 1:\n",
    "        virus['virus_type'][i]='nl63'        \n",
    "    elif virus['oc43'][i] > 0 and virus['sum'][i] == 1:\n",
    "        virus['virus_type'][i]='oc43'\n",
    "    elif virus['hku1'][i] > 0 and virus['sum'][i] == 1:\n",
    "        virus['virus_type'][i]='hku1'\n",
    "    elif virus['mers-cov'][i] > 0 and virus['sum'][i] == 1:\n",
    "        virus['virus_type'][i]='mers'\n",
    "    elif virus['mers'][i] > 0 and virus['sum'][i] == 1:\n",
    "        virus['virus_type'][i]='mers'\n",
    "    elif virus['sars-cov'][i] > 0 and virus['sum'][i] == 1: \n",
    "        virus['virus_type'][i]='sars'\n",
    "    elif virus['sars'][i] > 0 and virus['sum'][i] == 1:\n",
    "        virus['virus_type'][i]='sars'\n",
    "    elif virus['sars-cov-2'][i] > 0 and virus['sum'][i] == 1:\n",
    "        virus['virus_type'][i]='covid'\n",
    "    elif virus['covid-19'][i] > 0 and virus['sum'][i] == 1:\n",
    "        virus['virus_type'][i]='covid'\n",
    "    else:\n",
    "        virus['virus_type'][i]='multi'\n",
    "#virus['virus_type'].unique()\n",
    "virus = virus.reset_index()"
   ]
  },
  {
   "cell_type": "code",
   "execution_count": 13,
   "metadata": {},
   "outputs": [],
   "source": [
    "virus['abstract'] = virus['title'] +' '+virus['abstract']"
   ]
  },
  {
   "cell_type": "code",
   "execution_count": null,
   "metadata": {},
   "outputs": [],
   "source": []
  },
  {
   "cell_type": "code",
   "execution_count": 14,
   "metadata": {},
   "outputs": [
    {
     "data": {
      "text/plain": [
       "0    mers-cov recombination: implications about the...\n",
       "1    mers-cov spillover at the camel-human interfac...\n",
       "2    mers-cov nsp16 necessary for ifn resistance an...\n",
       "3    proofreading-deficient coronaviruses adapt ove...\n",
       "4    complemented palindrome small rnas first disco...\n",
       "5    ca2+ ions promote fusion of middle east respir...\n",
       "6    genomic and protein structure modelling analys...\n",
       "7    discovery of a novel coronavirus associated wi...\n",
       "8    functional assessment of cell entry and recept...\n",
       "9    preliminary estimation of the basic reproducti...\n",
       "Name: abstract, dtype: object"
      ]
     },
     "execution_count": 14,
     "metadata": {},
     "output_type": "execute_result"
    }
   ],
   "source": [
    "virus['abstract'].head(10)"
   ]
  },
  {
   "cell_type": "code",
   "execution_count": null,
   "metadata": {},
   "outputs": [],
   "source": []
  },
  {
   "cell_type": "markdown",
   "metadata": {},
   "source": [
    "# Exploratory Analysis"
   ]
  },
  {
   "cell_type": "markdown",
   "metadata": {},
   "source": [
    "Below, a graph was created comparing the coronavirus of topic totals for the reearch paper dataset. As expected, most of the research papers  are about SARS. This makes sense as SARS was the most severe of the past coronavirus' (Not including Covid-19) and therefore would have the most published papers about it. Additionally, Covid i fairly recent so although researchers are racing to find out more, there is not as many papers published as of yet (evetually there will be more than SARS). Suprisingly, there is still a mutitude of Covid-19 papers out already which highlights the severity of the virus. It is also worth note that a large portion of papers mention multiple virus', however it will be extremely difficult for me to text mine these as I have limited knowledge of which symptoms pertain to which virus as the whole abstract is being analyzed without order."
   ]
  },
  {
   "cell_type": "code",
   "execution_count": 15,
   "metadata": {},
   "outputs": [
    {
     "data": {
      "text/plain": [
       "Text(0.5, 1.0, 'Distribution of Coronavirus Type by Paper Count')"
      ]
     },
     "execution_count": 15,
     "metadata": {},
     "output_type": "execute_result"
    },
    {
     "data": {
      "image/png": "[encoded data removed]",
      "text/plain": [
       "<Figure size 1152x432 with 1 Axes>"
      ]
     },
     "metadata": {
      "needs_background": "light"
     },
     "output_type": "display_data"
    }
   ],
   "source": [
    "#Create barplot using seaborn\n",
    "plt.figure(figsize=(16, 6))\n",
    "sns.countplot(x='virus_type',data=virus).set_title('Distribution of Coronavirus Type by Paper Count')"
   ]
  },
  {
   "cell_type": "markdown",
   "metadata": {},
   "source": [
    "Next, I want to see which symptoms pertain to each of the virus' seen above. To do this, a similar method will be used taking a list of common symptoms and obtaining a count for each virus."
   ]
  },
  {
   "cell_type": "code",
   "execution_count": 16,
   "metadata": {},
   "outputs": [],
   "source": [
    "symptom_list = [ 'fever', 'cough', 'rhinitis', 'throat', 'hoarseness', 'bronchitis', 'bronchiolitis', 'pneumonia', 'shortness']"
   ]
  },
  {
   "cell_type": "code",
   "execution_count": 17,
   "metadata": {},
   "outputs": [],
   "source": [
    "for symp in symptom_list:\n",
    "    virus[symp] = np.zeros(len(virus))\n",
    "#reset_index\n",
    "virus = virus.reset_index(drop=True)\n"
   ]
  },
  {
   "cell_type": "code",
   "execution_count": 18,
   "metadata": {},
   "outputs": [
    {
     "name": "stderr",
     "output_type": "stream",
     "text": [
      "C:\\Users\\Tyler\\Anaconda3\\lib\\site-packages\\ipykernel_launcher.py:10: SettingWithCopyWarning: \n",
      "A value is trying to be set on a copy of a slice from a DataFrame\n",
      "\n",
      "See the caveats in the documentation: http://pandas.pydata.org/pandas-docs/stable/user_guide/indexing.html#returning-a-view-versus-a-copy\n",
      "  # Remove the CWD from sys.path while we load stuff.\n"
     ]
    }
   ],
   "source": [
    "  for i in range(len(virus)):    \n",
    "    text = str(virus.iloc[i,4])    \n",
    "    for sp in symptom_list :        \n",
    "        if any(x in sp for x in ['+']):\n",
    "            spp = re.escape(sp)\n",
    "        else:\n",
    "            spp = sp\n",
    "        result = re.search(r'(?:^|(?<=\\s))' + spp + r'(?=\\s|$)',text) \n",
    "        if result:\n",
    "            virus[sp][i] = 1"
   ]
  },
  {
   "cell_type": "code",
   "execution_count": 19,
   "metadata": {},
   "outputs": [],
   "source": [
    "virus.to_csv(r'C:\\Users\\Tyler\\Documents\\UofT\\DS\\Exam\\looke.csv', index = False)"
   ]
  },
  {
   "cell_type": "code",
   "execution_count": 20,
   "metadata": {},
   "outputs": [],
   "source": [
    "virus['sum_symp'] = virus.iloc[:,20:29].sum(axis=1)\n",
    "totals=virus.iloc[:,20:29].sum(axis=0)\n",
    "virus = virus[virus['sum_symp'] != 0]\n",
    "virus=virus.reset_index(drop=True)"
   ]
  },
  {
   "cell_type": "code",
   "execution_count": 21,
   "metadata": {},
   "outputs": [
    {
     "data": {
      "text/plain": [
       "cough             89.0\n",
       "rhinitis           3.0\n",
       "throat            55.0\n",
       "hoarseness         0.0\n",
       "bronchitis        31.0\n",
       "bronchiolitis      9.0\n",
       "pneumonia        357.0\n",
       "shortness         37.0\n",
       "sum_symp         581.0\n",
       "dtype: float64"
      ]
     },
     "execution_count": 21,
     "metadata": {},
     "output_type": "execute_result"
    }
   ],
   "source": [
    "totals"
   ]
  },
  {
   "cell_type": "markdown",
   "metadata": {},
   "source": [
    "For the purpose of this analysis only the commonly seen symptoms will be analyzed. I will ommit rhinitis, hoarseness, and bronchiolitis for now."
   ]
  },
  {
   "cell_type": "code",
   "execution_count": 22,
   "metadata": {},
   "outputs": [],
   "source": [
    "#virus.iloc[:,16:28]"
   ]
  },
  {
   "cell_type": "code",
   "execution_count": 23,
   "metadata": {},
   "outputs": [],
   "source": [
    "graphic=virus.iloc[:,18:28]\n",
    "graphic=graphic.reset_index(drop=True)\n",
    "\n",
    "fever_graphic = graphic[['fever', 'virus_type']].copy()\n",
    "cough_graphic = graphic[['cough', 'virus_type']].copy()\n",
    "throat_graphic = graphic[['throat', 'virus_type']].copy()\n",
    "bronchitis_graphic =graphic[['bronchitis', 'virus_type']].copy()\n",
    "pneumonia_graphic= graphic[['pneumonia', 'virus_type']].copy()\n",
    "\n",
    "shortness_graphic = graphic[['shortness', 'virus_type']].copy()\n"
   ]
  },
  {
   "cell_type": "code",
   "execution_count": 24,
   "metadata": {},
   "outputs": [
    {
     "data": {
      "text/html": [
       "<div>\n",
       "<style scoped>\n",
       "    .dataframe tbody tr th:only-of-type {\n",
       "        vertical-align: middle;\n",
       "    }\n",
       "\n",
       "    .dataframe tbody tr th {\n",
       "        vertical-align: top;\n",
       "    }\n",
       "\n",
       "    .dataframe thead th {\n",
       "        text-align: right;\n",
       "    }\n",
       "</style>\n",
       "<table border=\"1\" class=\"dataframe\">\n",
       "  <thead>\n",
       "    <tr style=\"text-align: right;\">\n",
       "      <th></th>\n",
       "      <th>cough</th>\n",
       "      <th>virus_type</th>\n",
       "    </tr>\n",
       "  </thead>\n",
       "  <tbody>\n",
       "    <tr>\n",
       "      <td>0</td>\n",
       "      <td>0.0</td>\n",
       "      <td>sars</td>\n",
       "    </tr>\n",
       "    <tr>\n",
       "      <td>1</td>\n",
       "      <td>0.0</td>\n",
       "      <td>sars</td>\n",
       "    </tr>\n",
       "    <tr>\n",
       "      <td>2</td>\n",
       "      <td>0.0</td>\n",
       "      <td>mers</td>\n",
       "    </tr>\n",
       "    <tr>\n",
       "      <td>3</td>\n",
       "      <td>0.0</td>\n",
       "      <td>sars</td>\n",
       "    </tr>\n",
       "    <tr>\n",
       "      <td>4</td>\n",
       "      <td>0.0</td>\n",
       "      <td>sars</td>\n",
       "    </tr>\n",
       "    <tr>\n",
       "      <td>...</td>\n",
       "      <td>...</td>\n",
       "      <td>...</td>\n",
       "    </tr>\n",
       "    <tr>\n",
       "      <td>513</td>\n",
       "      <td>0.0</td>\n",
       "      <td>covid</td>\n",
       "    </tr>\n",
       "    <tr>\n",
       "      <td>514</td>\n",
       "      <td>0.0</td>\n",
       "      <td>multi</td>\n",
       "    </tr>\n",
       "    <tr>\n",
       "      <td>515</td>\n",
       "      <td>0.0</td>\n",
       "      <td>sars</td>\n",
       "    </tr>\n",
       "    <tr>\n",
       "      <td>516</td>\n",
       "      <td>0.0</td>\n",
       "      <td>multi</td>\n",
       "    </tr>\n",
       "    <tr>\n",
       "      <td>517</td>\n",
       "      <td>0.0</td>\n",
       "      <td>covid</td>\n",
       "    </tr>\n",
       "  </tbody>\n",
       "</table>\n",
       "<p>518 rows × 2 columns</p>\n",
       "</div>"
      ],
      "text/plain": [
       "     cough virus_type\n",
       "0      0.0       sars\n",
       "1      0.0       sars\n",
       "2      0.0       mers\n",
       "3      0.0       sars\n",
       "4      0.0       sars\n",
       "..     ...        ...\n",
       "513    0.0      covid\n",
       "514    0.0      multi\n",
       "515    0.0       sars\n",
       "516    0.0      multi\n",
       "517    0.0      covid\n",
       "\n",
       "[518 rows x 2 columns]"
      ]
     },
     "execution_count": 24,
     "metadata": {},
     "output_type": "execute_result"
    }
   ],
   "source": [
    "cough_graphic"
   ]
  },
  {
   "cell_type": "markdown",
   "metadata": {},
   "source": [
    "In the graph below the symptom \"cough\" is plotted where 0 means it was not mentioned as a symptom for the specific virus in the abstract, and 1 where it was in fact mentioned as a symtom of that specific virus in the abstract. On the Y axis the cummulative number of 1s and 0s for each virus . As the count of the number of available papers for each virus is different, it is important to compare the blue (not mentioned) to the red (mentioned) to see overall how often the symptom is mentioned in comparison to not being metnioned. It is important to note that only papers that contain at least 1 symptom were used, in order to filter out papers that are not concerned about virus symptoms which would skew the data. Although this is not a perfect method likely the symptoms with the highest symptom/no symptom ratio will be the most common or problematic for said virus. By looking at this data it can be seen that a cough is a symptom for most of the different viruses and appears just as frequently as the red to blue column ratio is very similar for mostly all the virus'. For the three main coronaviruses of concern (sars, mars and covid) the ratio is almost exactly the same."
   ]
  },
  {
   "cell_type": "code",
   "execution_count": 25,
   "metadata": {},
   "outputs": [
    {
     "data": {
      "text/plain": [
       "Text(0.5, 1.0, 'Presence of cough in research paper absract +by coronavirus type')"
      ]
     },
     "execution_count": 25,
     "metadata": {},
     "output_type": "execute_result"
    },
    {
     "data": {
      "image/png": "[encoded data removed]",
      "text/plain": [
       "<Figure size 432x288 with 1 Axes>"
      ]
     },
     "metadata": {
      "needs_background": "light"
     },
     "output_type": "display_data"
    }
   ],
   "source": [
    "sns.countplot(x=\"virus_type\", hue=\"cough\", data=cough_graphic)\n",
    "plt.title('Presence of cough in research paper absract +by coronavirus type')\n"
   ]
  },
  {
   "cell_type": "code",
   "execution_count": 26,
   "metadata": {},
   "outputs": [
    {
     "data": {
      "text/plain": [
       "(0, 100)"
      ]
     },
     "execution_count": 26,
     "metadata": {},
     "output_type": "execute_result"
    },
    {
     "data": {
      "image/png": "[encoded data removed]",
      "text/plain": [
       "<Figure size 2160x360 with 6 Axes>"
      ]
     },
     "metadata": {
      "needs_background": "light"
     },
     "output_type": "display_data"
    }
   ],
   "source": [
    "df_dims = (30, 5)\n",
    "\n",
    "fig, axs = plt.subplots(ncols=6, figsize=df_dims)\n",
    "sns.countplot(x='virus_type', hue='cough', data=cough_graphic, ax=axs[0])\n",
    "sns.countplot(x='virus_type', hue= 'pneumonia',data=pneumonia_graphic, ax=axs[1])\n",
    "sns.countplot(x='virus_type', hue='fever',data=fever_graphic, ax=axs[2])\n",
    "plt.title('Frequency of symptoms in research papers across all known coronaviruses')\n",
    "sns.countplot(x='virus_type', hue='shortness',data=shortness_graphic, ax=axs[3])\n",
    "sns.countplot(x='virus_type', hue='throat',data=throat_graphic, ax=axs[4])\n",
    "sns.countplot(x='virus_type', hue='bronchitis',data=bronchitis_graphic, ax=axs[5])\n",
    "\n",
    "plt.ylim(0,100)\n"
   ]
  },
  {
   "cell_type": "markdown",
   "metadata": {},
   "source": [
    "Above all of the major symptoms were plotted against the virus types using has symptom or does not have symptom as the hue argument . For the three main viruses it can be seen that pneumonia is talked about in more articles than it is not (remember all articles in this study have at least one symptom mentioned). It is the only symptom that is mentioned more than not. most likely this is because some of the other symptoms can be considered more minor, and actually normally occur preceeding pneumonia. As the pneumonia is a sign that the patient has an intense case of the virus, it makes sense that most research has this as a main concern. As as result of these graphical figures, it can not be concluded that frequency of being mentioned correlates to symptom frequency in reality, it just highlights the similar symptoms seen across the viruses, as well as the ones that are more likely of concern to researches."
   ]
  },
  {
   "cell_type": "markdown",
   "metadata": {},
   "source": [
    "Question:  How could these trends be used to help with the task of methodically extracting all information and trends of this type? Consider how accessing the data and creating these visualizations will inform how the data will need to be pre-processed and fed into your models. \n",
    "\n",
    "Using the above graph, the 30,000+ research articles could be filtered for by datum relating to the above seen symptoms. In doing this, one can explore the commonalities seen between the predecessors of covid-19 with covid-19 and rapidly gain knowledge on certain aspects of the virus (dealing with pneumonia, causes of cough etc..) Additionally, the different symptoms were just an example as this process could be used for a multitude of options including: surface life of virus, vaccinations researched etc. The method I used of using key words such as but not limited to virus symptoms, one could compare and contrast similarities between coronaviruses using my virus label method explained in the first graphical figure. \n",
    "\n",
    "My plan is to compare both kmeans and cosine similarity of the abstracts in question. As there is an enormous amount of data for researches to sift through, using the technique shown in the graphical figure, I am able to first filter out a large portion of the papers that a researcher may not be concerned with. They could start  by entering a key words, which would reduce the papers down to a more managable number for the model using my data cleaning method. This will hopefully help reduce the dimensionality used in TF-IDF and help my models with the dimensionality issue they are both known to face. "
   ]
  },
  {
   "cell_type": "markdown",
   "metadata": {},
   "source": [
    "# Modeling"
   ]
  },
  {
   "cell_type": "markdown",
   "metadata": {},
   "source": [
    "## Feature Preparation"
   ]
  },
  {
   "cell_type": "code",
   "execution_count": 27,
   "metadata": {},
   "outputs": [],
   "source": [
    "from nltk.tokenize import RegexpTokenizer\n",
    "from nltk.stem.snowball import SnowballStemmer\n",
    "from sklearn.feature_extraction import text\n",
    "stemmer = SnowballStemmer('english')\n",
    "tokenizer = RegexpTokenizer(r'[a-zA-Z\\']+')\n",
    "punc = ['.', ',', '\"', \"'\", '?', '!', ':', ';', '(', ')', '[', ']', '{', '}',\"%\"]\n",
    "stop_words = text.ENGLISH_STOP_WORDS.union(punc)\n",
    "\n",
    "def tokenize(text):\n",
    "    return [stemmer.stem(word) for word in tokenizer.tokenize(text.lower())]"
   ]
  },
  {
   "cell_type": "code",
   "execution_count": 28,
   "metadata": {},
   "outputs": [
    {
     "name": "stderr",
     "output_type": "stream",
     "text": [
      "C:\\Users\\Tyler\\Anaconda3\\lib\\site-packages\\sklearn\\feature_extraction\\text.py:300: UserWarning: Your stop_words may be inconsistent with your preprocessing. Tokenizing the stop words generated tokens ['abov', 'afterward', 'alon', 'alreadi', 'alway', 'ani', 'anoth', 'anyon', 'anyth', 'anywher', 'becam', 'becaus', 'becom', 'befor', 'besid', 'cri', 'describ', 'dure', 'els', 'elsewher', 'empti', 'everi', 'everyon', 'everyth', 'everywher', 'fifti', 'forti', 'henc', 'hereaft', 'herebi', 'howev', 'hundr', 'inde', 'mani', 'meanwhil', 'moreov', 'nobodi', 'noon', 'noth', 'nowher', 'onc', 'onli', 'otherwis', 'ourselv', 'perhap', 'pleas', 'sever', 'sinc', 'sincer', 'sixti', 'someon', 'someth', 'sometim', 'somewher', 'themselv', 'thenc', 'thereaft', 'therebi', 'therefor', 'togeth', 'twelv', 'twenti', 'veri', 'whatev', 'whenc', 'whenev', 'wherea', 'whereaft', 'wherebi', 'wherev', 'whi', 'yourselv'] not in stop_words.\n",
      "  'stop_words.' % sorted(inconsistent))\n"
     ]
    }
   ],
   "source": [
    "from sklearn.metrics.pairwise import cosine_similarity\n",
    "from sklearn.feature_extraction.text import CountVectorizer# instantiating and generating the count matrix\n",
    "from sklearn.feature_extraction.text import TfidfVectorizer\n",
    "tokenizer = RegexpTokenizer(r'[a-zA-Z\\']+'r'[a-zA-Z\\']+')\n",
    "\n",
    "desc = virus['abstract']#.values\n",
    "vectorizer = TfidfVectorizer(stop_words=stop_words,tokenizer = tokenize)\n",
    "\n",
    "X = vectorizer.fit_transform(desc)\n",
    "\n",
    "# generating the cosine similarity matrix\n",
    "#cosine_sim = cosine_similarity(count_matrix, count_matrix)"
   ]
  },
  {
   "cell_type": "code",
   "execution_count": 29,
   "metadata": {},
   "outputs": [],
   "source": [
    "words = vectorizer.get_feature_names()"
   ]
  },
  {
   "cell_type": "code",
   "execution_count": 30,
   "metadata": {},
   "outputs": [],
   "source": [
    "#data_cluster"
   ]
  },
  {
   "cell_type": "markdown",
   "metadata": {},
   "source": [
    "## K Means Clustering"
   ]
  },
  {
   "cell_type": "markdown",
   "metadata": {},
   "source": [
    "K means clustering is an unsupervised machine learning algorithm that \"clusters\" data into different groups based on their similarity. The hyper parameter is the number of clusters , and the optimal number is found using  method discussed below.."
   ]
  },
  {
   "cell_type": "markdown",
   "metadata": {},
   "source": [
    "### Elbow Method"
   ]
  },
  {
   "cell_type": "markdown",
   "metadata": {},
   "source": [
    "The elbow method is used to find the optimal k value based on the variance of the clusters. The best choice is typically one where adding another cluster does not improve the model at all. Graphically this is seen as the elbow, where the curve bends after being on a straight line. In my case this was at K=3,6 and 9. As I sought out to be able to split the research papers based on coronavirus type these are all hopeful numbers as 3 could relaate to sars, mers, and covid, and the other clusters may help describe the less dangerous coronavirus' or something else."
   ]
  },
  {
   "cell_type": "code",
   "execution_count": 31,
   "metadata": {},
   "outputs": [
    {
     "data": {
      "image/png": "[encoded data removed]",
      "text/plain": [
       "<IPython.core.display.Image object>"
      ]
     },
     "metadata": {},
     "output_type": "display_data"
    }
   ],
   "source": [
    " from sklearn.cluster import KMeans\n",
    "# wcss = []\n",
    "# for i in range(1,11):\n",
    "#     kmeans = KMeans(n_clusters=i,init='k-means++',max_iter=300,n_init=10,random_state=0)\n",
    "#     kmeans.fit(X)\n",
    "#     wcss.append(kmeans.inertia_)\n",
    "# plt.plot(range(1,11),wcss)\n",
    "# plt.title('The Elbow Method')\n",
    "# plt.xlabel('Number of clusters')\n",
    "# plt.ylabel('WCSS')\n",
    "# plt.show()\n",
    "\n",
    " #obtaining image of elbow curve as it takes a while to run\n",
    "from IPython.display import Image, HTML, display\n",
    "display(Image('elbow.PNG'))"
   ]
  },
  {
   "cell_type": "code",
   "execution_count": 32,
   "metadata": {},
   "outputs": [
    {
     "name": "stdout",
     "output_type": "stream",
     "text": [
      "['anterior', 'anti', 'antibiot', 'antibodi', 'antifung', 'antigen', 'antihypertens', 'antimalari', 'antimicrobi', 'antipyresi', 'antisepsi', 'antisept', 'antisera', 'antithrombin', 'antivir', 'antivirus', 'anxieti', 'ap', 'apach', 'apart', 'apgar', 'apic', 'apoptosi', 'apoptot', 'appar', 'apparu', 'appeal', 'appear', 'appetit', 'appli', 'applic', 'appoint', 'appreci', 'approach', 'appropri', 'approv', 'approxim', 'apr', 'april', 'aptitud', 'ar', 'arabia', 'arabian', 'arbidol', 'arcgi', 'architectur', 'archiv', 'ard', 'area', 'areimport']\n"
     ]
    }
   ],
   "source": [
    "print(words[250:300])"
   ]
  },
  {
   "cell_type": "markdown",
   "metadata": {},
   "source": [
    "As more than one elbows have been generated, I will have to select right amount of clusters by trial and error. So, I will showcase the results of different amount of clusters to find out the right amount of clusters."
   ]
  },
  {
   "cell_type": "markdown",
   "metadata": {},
   "source": [
    "### 3 Clusters"
   ]
  },
  {
   "cell_type": "code",
   "execution_count": 33,
   "metadata": {},
   "outputs": [
    {
     "name": "stdout",
     "output_type": "stream",
     "text": [
      "0 : covid, patient, case, clinic, diseas, china, ct, sever, wuhan, hospit, pneumonia, sar, coronavirus, day, symptom, infect, group, characterist, cov, confirm, fever, outbreak, novel, treatment, chest\n",
      "1 : mer, cov, east, middl, respiratori, infect, patient, syndrom, case, coronavirus, saudi, arabia, mortal, sever, pneumonia, human, clinic, outbreak, virus, hospit, caus, diseas, report, influenza, viral\n",
      "2 : sar, cov, virus, coronavirus, infect, protein, human, respiratori, patient, hcov, sever, detect, acut, cell, nl, viral, ncov, sequenc, genom, syndrom, pneumonia, sampl, use, caus, assay\n"
     ]
    }
   ],
   "source": [
    "kmeans = KMeans(n_clusters = 3, n_init = 20, n_jobs = 1) # n_init(number of iterations for clsutering) n_jobs(number of cpu cores to use)\n",
    "kmeans.fit(X)\n",
    "# We look at 3 the clusters generated by k-means.\n",
    "common_words = kmeans.cluster_centers_.argsort()[:,-1:-26:-1]\n",
    "for num, centroid in enumerate(common_words):\n",
    "    print(str(num) + ' : ' + ', '.join(words[word] for word in centroid))"
   ]
  },
  {
   "cell_type": "markdown",
   "metadata": {},
   "source": [
    "\n",
    "\n",
    "0 : sar, cov, virus, coronavirus, infect, respiratori, human, protein, patient, hcov, sever, acut, detect, viral, cell, nl, syndrom, genom, sequenc, ncov, pneumonia, sampl, caus, use, assay\n",
    "1 : covid, patient, case, clinic, diseas, china, ct, sever, wuhan, hospit, pneumonia, sar, coronavirus, day, infect, symptom, group, characterist, cov, confirm, novel, outbreak, transmiss, fever, treatment\n",
    "2 : mer, cov, east, middl, respiratori, infect, patient, syndrom, case, saudi, coronavirus, arabia, mortal, pneumonia, sever, human, clinic, hospit, virus, influenza, report, caus, diseas, camel, outbreak"
   ]
  },
  {
   "cell_type": "markdown",
   "metadata": {},
   "source": [
    "These 3 clusters can be interpreted as follows:\n",
    "0: SARS. It is clear to me that this cluster is involving articles relating to SARS as \"Severe\" \"Acute\" and \"Respiritory\" and \"syndrome\" can all be see in the common words. Additionally, there are tags such as \"sar: and 'cov' which are likely related to the full name for SARS 'SARS-CoV'\n",
    "\n",
    "1: This is clearly grouping articles relatin to covid-19 as all of the tags are in realtion to China, Wuhan, novel with additional support to this claim from tags such as \"cov\" .\n",
    "\n",
    "2: This is clearly relating to MERS as the tags \"middle\" ,'east', 'respiratory', 'syndrome' are all present which is further backed by \"camel' as the virus was first identified in camel byproducts."
   ]
  },
  {
   "cell_type": "markdown",
   "metadata": {},
   "source": [
    "### 6 Clusters"
   ]
  },
  {
   "cell_type": "code",
   "execution_count": 34,
   "metadata": {},
   "outputs": [],
   "source": [
    "# kmeans = KMeans(n_clusters = 6, n_init = 20, n_jobs = 1) # n_init(number of iterations for clsutering) n_jobs(number of cpu cores to use)\n",
    "# kmeans.fit(X)\n",
    "# # We look at 3 the clusters generated by k-means.\n",
    "# common_words = kmeans.cluster_centers_.argsort()[:,-1:-26:-1]\n",
    "# for num, centroid in enumerate(common_words):\n",
    "#     print(str(num) + ' : ' + ', '.join(words[word] for word in centroid))### 6 Clusters\n"
   ]
  },
  {
   "cell_type": "code",
   "execution_count": null,
   "metadata": {},
   "outputs": [],
   "source": []
  },
  {
   "cell_type": "markdown",
   "metadata": {},
   "source": [
    "The 6 clusters do not help paint as clear a picture into grouping as the 3 clusters. There are some similarities with the bonus of having 0 containing the common coronaviruses seen with 'nl' 'oc' and 'hku', but there is too many categories with non valuable information  and the 3 clusters is very valuable."
   ]
  },
  {
   "cell_type": "markdown",
   "metadata": {},
   "source": [
    "0 : hcov, nl, hku, virus, human, coronavirus, influenza, oc, infect, respiratori, detect, genom, children, pcr, strain, assay, sequenc, adult, patient, tract, sampl, time, preval, real, common\n",
    "1 : patient, covid, ct, clinic, group, sever, case, hospit, diseas, symptom, day, fever, chest, pneumonia, characterist, vs, critic, featur, admiss, sar, laboratori, age, lesion, studi, result\n",
    "2 : mer, cov, east, middl, respiratori, infect, patient, syndrom, case, coronavirus, saudi, sever, pneumonia, arabia, mortal, human, clinic, outbreak, virus, sar, hospit, diseas, caus, report, viral\n",
    "3 : cov, sar, protein, virus, ncov, coronavirus, cell, human, genom, sequenc, infect, ibv, bat, bind, viral, ace, structur, rna, host, gene, vaccin, receptor, respiratori, sever, activ\n",
    "4 : sar, patient, cov, respiratori, acut, infect, sever, detect, sampl, syndrom, coronavirus, day, assay, case, clinic, diseas, control, pneumonia, test, viral, pcr, outbreak, ill, posit, use\n",
    "5 : covid, case, china, patient, wuhan, diseas, transmiss, coronavirus, outbreak, estim, health, pneumonia, infect, number, sar, clinic, epidem, novel, provinc, confirm, spread, cov, public, data, ncov"
   ]
  },
  {
   "cell_type": "markdown",
   "metadata": {},
   "source": [
    "### 9 Clusters"
   ]
  },
  {
   "cell_type": "code",
   "execution_count": 35,
   "metadata": {},
   "outputs": [],
   "source": [
    "# kmeans = KMeans(n_clusters = 9, n_init = 20, n_jobs = 1) # n_init(number of iterations for clsutering) n_jobs(number of cpu cores to use)\n",
    "# kmeans.fit(X)\n",
    "# # We look at 3 the clusters generated by k-means.\n",
    "# common_words = kmeans.cluster_centers_.argsort()[:,-1:-26:-1]\n",
    "# for num, centroid in enumerate(common_words):\n",
    "#     print(str(num) + ' : ' + ', '.join(words[word] for word in centroid))### 3 Clusters"
   ]
  },
  {
   "cell_type": "markdown",
   "metadata": {},
   "source": [
    "The 9 clusters do not help paint as clear a picture into grouping as the 3 clusters. There are almost no similarities between terms that I can interpret."
   ]
  },
  {
   "cell_type": "markdown",
   "metadata": {},
   "source": [
    "0 : lung, mice, sar, cov, patholog, infect, cell, model, mer, marmoset, alveolar, inflammatori, anim, sever, human, ifn, acut, virus, respiratori, pathogenesi, viral, pneumonia, transgen, il, immun\n",
    "1 : patient, covid, clinic, sever, hospit, diseas, group, case, sar, admiss, fever, symptom, characterist, day, critic, treatment, wuhan, age, laboratori, ci, lymphocyt, ill, studi, cov, level\n",
    "2 : sar, covid, cov, coronavirus, china, spread, diseas, outbreak, health, respiratori, novel, world, infect, intern, case, wuhan, pneumonia, syndrom, countri, caus, decemb, emerg, sever, current, acut\n",
    "3 : covid, case, china, patient, transmiss, estim, wuhan, outbreak, number, health, diseas, infect, provinc, coronavirus, pneumonia, confirm, epidem, public, clinic, sar, day, novel, data, hubei, epidemiolog\n",
    "4 : mer, cov, east, middl, patient, respiratori, infect, syndrom, case, saudi, arabia, coronavirus, mortal, clinic, pneumonia, hospit, camel, report, human, outbreak, korea, present, sever, associ, rate\n",
    "5 : protein, cov, sar, ncov, coronavirus, virus, genom, human, bat, ibv, sequenc, ace, vaccin, cell, structur, bind, rna, domain, receptor, viral, gene, infect, nsp, host, membran\n",
    "6 : hcov, nl, virus, influenza, respiratori, infect, human, oc, coronavirus, detect, hku, children, tract, strain, pathogen, patient, adult, preval, pcr, common, genom, sampl, rhinovirus, viral, pilgrim\n",
    "7 : sar, cov, patient, detect, respiratori, sampl, infect, assay, coronavirus, acut, sever, syndrom, virus, pcr, rt, test, day, control, use, elisa, pneumonia, antibodi, clinic, posit, ill\n",
    "8 : ct, covid, patient, lesion, consolid, imag, chest, opac, pneumonia, featur, radiologist, ground, group, glass, score, distribut, ggo, comput, lung, lobe, clinic, vs, day, model, peripher"
   ]
  },
  {
   "cell_type": "markdown",
   "metadata": {},
   "source": [
    "## Best Model"
   ]
  },
  {
   "cell_type": "markdown",
   "metadata": {},
   "source": [
    "The model with the clusters that best alligned with my anticipated findings was the k=3 cluster model. This grouped the articles based on coronavirus type (MERS, SARS, Covid). This model will be used for the recommender system proposed."
   ]
  },
  {
   "cell_type": "code",
   "execution_count": 36,
   "metadata": {},
   "outputs": [],
   "source": [
    "def cluster_predict(str_input):\n",
    "    Y = vectorizer.transform(str_input)\n",
    "    prediction = kmeans.predict(Y)\n",
    "    return prediction"
   ]
  },
  {
   "cell_type": "code",
   "execution_count": 37,
   "metadata": {},
   "outputs": [],
   "source": [
    "# Create new column for storing predicted categories from our trained model.\n",
    "virus['ClusterPrediction'] = \"\""
   ]
  },
  {
   "cell_type": "code",
   "execution_count": 38,
   "metadata": {},
   "outputs": [],
   "source": [
    "\n",
    "# Cluster category for each live course\n",
    "virus['ClusterPrediction']=virus.apply(lambda x: cluster_predict(virus['abstract']), axis=0)\n"
   ]
  },
  {
   "cell_type": "code",
   "execution_count": 39,
   "metadata": {},
   "outputs": [
    {
     "data": {
      "text/plain": [
       "array([2, 0, 1], dtype=int64)"
      ]
     },
     "execution_count": 39,
     "metadata": {},
     "output_type": "execute_result"
    }
   ],
   "source": [
    "virus['ClusterPrediction'].unique()"
   ]
  },
  {
   "cell_type": "markdown",
   "metadata": {},
   "source": [
    "## Recommendation System of Research Papers"
   ]
  },
  {
   "cell_type": "markdown",
   "metadata": {},
   "source": [
    "Based on the clusters above a recommendation system waas created to help researchers, doctors, and scientists, expedite their resource retrieval process. Instead of sifting through thousands of articles they can use my system which will give them the most similar articles, likely on the same basis of virus they are investigating. For example, if someone is researching the MERS vaccinations and have a paper on it, using my recommendation system they can easily find other papers on the topic of MERS (the cluster) and likely terms matching vaccinations will help find them 10 papers that might superseed their investigation. \n",
    "\n",
    "To use the recommender they just have to enter the title of the current paper they are using, and 10 similar papers will be output. The recommender takes the corresponding abstract to the title and uses feeds it into the kmeans model to determine the distance to the closest cluster center. The top 10 articles closest to this point are recommended!"
   ]
  },
  {
   "cell_type": "code",
   "execution_count": 40,
   "metadata": {},
   "outputs": [],
   "source": [
    "def recommend_util(str_input):\n",
    "    \n",
    "    # match on the basis course-id and form whole 'Description' entry out of it.\n",
    "    temp_df = virus.loc[virus['title'] == str_input]\n",
    "    temp_df['InputString'] = temp_df.abstract \n",
    "    str_input = list(temp_df['InputString'])\n",
    "    print(str_input)\n",
    "    # Predict category of input string category\n",
    "    prediction_inp = cluster_predict(str_input)\n",
    "    prediction_inp = int(prediction_inp)\n",
    "    # Based on the above prediction 10 random courses are recommended from the whole data-frame\n",
    "    # Recommendation Logic is kept super-simple for current implementation.\n",
    "    temp_df = virus.loc[virus['ClusterPrediction'] == prediction_inp]\n",
    "    temp_df = temp_df.sample(10)\n",
    "    \n",
    "    return list(temp_df['title'])"
   ]
  },
  {
   "cell_type": "code",
   "execution_count": 41,
   "metadata": {},
   "outputs": [],
   "source": [
    "\n",
    "# pd.set_option('display.max_rows', None)\n",
    "# pd.set_option('display.max_columns', None)\n",
    "# pd.set_option('display.width', None)\n",
    "# pd.set_option('display.max_colwidth', -1)\n",
    "#virus['title']"
   ]
  },
  {
   "cell_type": "code",
   "execution_count": 42,
   "metadata": {},
   "outputs": [
    {
     "name": "stdout",
     "output_type": "stream",
     "text": [
      "['genomic and protein structure modelling analysis depicts the origin and infectivity of 2019-ncov, a new coronavirus which caused a pneumonia outbreak in wuhan, china abstractdetailed genomic and structure-based analysis of a new coronavirus, namely 2019-ncov, showed that the new virus is a new type of bat coronavirus and is genetically fairly distant from the human sars coronavirus. structure analysis of the spike (s) protein of this new virus showed that its s protein only binds weakly to the ace2 receptor on human cells whereas the human sars coronavirus exhibits strongly affinity to the ace receptor. these findings suggest that the new virus does not readily transmit between humans and should theoretically not able to cause very serious human infection. these data are important to guide design of infection control policy and inform the public on the nature of threat imposed by 2019-ncov when results of direct laboratory tests on this virus are not expected to be available in the near future.']\n",
      "['sputum cytology of patients with severe acute respiratory syndrome (sars)', 'protecting chinese healthcare workers while combating the 2019 novel coronavirus', 'development and evaluation of a multitarget real-time taqman reverse transcription-pcr assay for detection of the severe acute respiratory syndrome-associated coronavirus and surveillance for an apparently related coronavirus found in masked palm civets', 'coronavirus-positive nasopharyngeal aspirate as predictor for severe acute respiratory syndrome mortality', 'sars-cov replication and pathogenesis in an in vitro model of the human conducting airway epithelium', 'respiratory disease and virus shedding in rhesus macaques inoculated with sars-cov-2', 'antiviral action of tryptanthrin isolated from strobilanthes cusia leaf against human coronavirus nl63 outbreak of novel coronavirus (sars-cov-2): first evidences from international scientific literature and pending questions', 'a coronavirus e protein is present in two distinct pools with different effects on assembly and the secretory pathway', 'epidemiology of human coronavirus nl63 infection among hospitalized patients with pneumonia in taiwan', 'recombinant receptor binding domain protein induces partial protective immunity in rhesus macaques against middle east respiratory syndrome coronavirus challenge()']\n"
     ]
    },
    {
     "name": "stderr",
     "output_type": "stream",
     "text": [
      "C:\\Users\\Tyler\\Anaconda3\\lib\\site-packages\\ipykernel_launcher.py:5: SettingWithCopyWarning: \n",
      "A value is trying to be set on a copy of a slice from a DataFrame.\n",
      "Try using .loc[row_indexer,col_indexer] = value instead\n",
      "\n",
      "See the caveats in the documentation: http://pandas.pydata.org/pandas-docs/stable/user_guide/indexing.html#returning-a-view-versus-a-copy\n",
      "  \"\"\"\n"
     ]
    }
   ],
   "source": [
    "queries = ['genomic and protein structure modelling analysis depicts the origin and infectivity of 2019-ncov, a new coronavirus which caused a pneumonia outbreak in wuhan, china']\n",
    "for query in queries:\n",
    "    res = recommend_util(query)\n",
    "    print(res)"
   ]
  },
  {
   "cell_type": "code",
   "execution_count": null,
   "metadata": {},
   "outputs": [],
   "source": []
  }
 ],
 "metadata": {
  "hide_input": false,
  "kernelspec": {
   "display_name": "Python 3",
   "language": "python",
   "name": "python3"
  },
  "language_info": {
   "codemirror_mode": {
    "name": "ipython",
    "version": 3
   },
   "file_extension": ".py",
   "mimetype": "text/x-python",
   "name": "python",
   "nbconvert_exporter": "python",
   "pygments_lexer": "ipython3",
   "version": "3.7.4"
  },
  "toc": {
   "base_numbering": 1,
   "nav_menu": {},
   "number_sections": true,
   "sideBar": true,
   "skip_h1_title": false,
   "title_cell": "Table of Contents",
   "title_sidebar": "Contents",
   "toc_cell": false,
   "toc_position": {},
   "toc_section_display": true,
   "toc_window_display": false
  },
  "varInspector": {
   "cols": {
    "lenName": 16,
    "lenType": 16,
    "lenVar": 40
   },
   "kernels_config": {
    "python": {
     "delete_cmd_postfix": "",
     "delete_cmd_prefix": "del ",
     "library": "var_list.py",
     "varRefreshCmd": "print(var_dic_list())"
    },
    "r": {
     "delete_cmd_postfix": ") ",
     "delete_cmd_prefix": "rm(",
     "library": "var_list.r",
     "varRefreshCmd": "cat(var_dic_list()) "
    }
   },
   "types_to_exclude": [
    "module",
    "function",
    "builtin_function_or_method",
    "instance",
    "_Feature"
   ],
   "window_display": false
  }
 },
 "nbformat": 4,
 "nbformat_minor": 2
}
